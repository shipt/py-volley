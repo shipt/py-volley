{
 "cells": [
  {
   "cell_type": "markdown",
   "id": "f35cf705",
   "metadata": {},
   "source": [
    "# Publish example data to Staging Input Kafka Topic"
   ]
  },
  {
   "cell_type": "code",
   "execution_count": null,
   "id": "e2532c57",
   "metadata": {},
   "outputs": [],
   "source": [
    "# run this notebook from root directory of the repository\n",
    "import os\n",
    "os.chdir(\"../\")"
   ]
  },
  {
   "cell_type": "code",
   "execution_count": null,
   "id": "403d5558",
   "metadata": {},
   "outputs": [],
   "source": [
    "from uuid import uuid4\n",
    "import json\n",
    "import time\n",
    "\n",
    "import pandas as pd\n",
    "\n",
    "from pyshipt_streams import KafkaProducer, KafkaConsumer\n",
    "from components.data_models import InputMessage\n",
    "from components.data_models import InputMessage"
   ]
  },
  {
   "cell_type": "code",
   "execution_count": null,
   "id": "3e0020cb",
   "metadata": {},
   "outputs": [],
   "source": [
    "# STAGE\n",
    "KAFKA_BROKERS = \"pkc-oqmoy.us-central1.gcp.confluent.cloud:9092\"\n",
    "INPUT = \"stg.bus.ds-marketplace.v1.bundle_engine_input\"\n",
    "OUTPUT = \"stg.bus.ds-marketplace.v1.bundle_engine_output\"\n",
    "# ask in bundle-engine channel for Kafka Credentials\n",
    "\n",
    "KAFKA_KEY = os.environ[\"KAFKA_KEY\"],\n",
    "KAFKA_SECRET = os.environ[\"KAFKA_SECRET\"]"
   ]
  },
  {
   "cell_type": "code",
   "execution_count": null,
   "id": "83887deb",
   "metadata": {},
   "outputs": [],
   "source": [
    "p = KafkaProducer(\n",
    "    brokers=KAFKA_BROKERS,\n",
    "    username=KAFKA_KEY,\n",
    "    password=KAFKA_SECRET\n",
    ")"
   ]
  },
  {
   "cell_type": "markdown",
   "id": "660e1a31",
   "metadata": {},
   "source": [
    "# Simulate input data"
   ]
  },
  {
   "cell_type": "code",
   "execution_count": null,
   "id": "267d2b16",
   "metadata": {},
   "outputs": [],
   "source": [
    "example_data = InputMessage.schema()[\"examples\"][0].copy()\n",
    "example_data"
   ]
  },
  {
   "cell_type": "code",
   "execution_count": null,
   "id": "54fb4380",
   "metadata": {},
   "outputs": [],
   "source": [
    "# number of stores to simulate\n",
    "NUM_STORES = 5\n",
    "# number of orders/store\n",
    "NUM_ORDERS = 50"
   ]
  },
  {
   "cell_type": "code",
   "execution_count": null,
   "id": "beb4034c",
   "metadata": {},
   "outputs": [],
   "source": [
    "REPL = max(int(NUM_ORDERS / len(example_data[\"orders\"])), 1)\n",
    "example_data[\"orders\"] = example_data[\"orders\"] * REPL"
   ]
  },
  {
   "cell_type": "code",
   "execution_count": null,
   "id": "ac314891",
   "metadata": {},
   "outputs": [],
   "source": [
    "print(f\"{INPUT=}\")\n",
    "print(f\"{KAFKA_BROKERS=}\")\n",
    "print(f'''{len(example_data[\"orders\"])=}''')"
   ]
  },
  {
   "cell_type": "code",
   "execution_count": null,
   "id": "8f44803c",
   "metadata": {},
   "outputs": [],
   "source": [
    "for i in range(NUM_STORES):\n",
    "    example_data[\"bundle_request_id\"] = f\"smoke-test-{i}\"\n",
    "    p.publish(\n",
    "        INPUT,\n",
    "        example_data,\n",
    "        serialize=True\n",
    "    )"
   ]
  },
  {
   "cell_type": "markdown",
   "id": "09577435",
   "metadata": {},
   "source": [
    "# Listen for message on the output topic"
   ]
  },
  {
   "cell_type": "code",
   "execution_count": null,
   "id": "e25ef204",
   "metadata": {},
   "outputs": [],
   "source": [
    "# setup a consumer\n",
    "me = os.environ[\"USER\"]\n",
    "c = KafkaConsumer(\n",
    "    consumer_group=f\"{me}-staging-inspector\",\n",
    "    brokers=KAFKA_BROKERS,\n",
    "    username=KAFKA_KEY,\n",
    "    password=KAFKA_SECRET,\n",
    ")\n",
    "c.subscribe(topics=[OUTPUT])\n",
    "messages = []"
   ]
  },
  {
   "cell_type": "code",
   "execution_count": null,
   "id": "e40bc34a",
   "metadata": {},
   "outputs": [],
   "source": [
    "# consumer the messages\n",
    "try:\n",
    "    while True:\n",
    "        msg = c.poll(0.25)\n",
    "        if msg is None:\n",
    "            continue\n",
    "        if msg.error():\n",
    "            raise Exception(\"errr\")\n",
    "        else:\n",
    "            m = json.loads(msg.value().decode(\"utf-8\"))\n",
    "            messages.append(m)\n",
    "            try:\n",
    "                print(m[\"bundle_request_id\"])\n",
    "            except KeyError:\n",
    "                print(m)\n",
    "except KeyboardInterrupt:\n",
    "    print(\"aborted\")\n",
    "finally:\n",
    "    c.close()"
   ]
  },
  {
   "cell_type": "code",
   "execution_count": null,
   "id": "f07688f9",
   "metadata": {},
   "outputs": [],
   "source": [
    "# Inspect the mssages\n",
    "messages[-1]"
   ]
  }
 ],
 "metadata": {
  "kernelspec": {
   "display_name": "Python 3 (ipykernel)",
   "language": "python",
   "name": "python3"
  },
  "language_info": {
   "codemirror_mode": {
    "name": "ipython",
    "version": 3
   },
   "file_extension": ".py",
   "mimetype": "text/x-python",
   "name": "python",
   "nbconvert_exporter": "python",
   "pygments_lexer": "ipython3",
   "version": "3.9.4"
  }
 },
 "nbformat": 4,
 "nbformat_minor": 5
}
