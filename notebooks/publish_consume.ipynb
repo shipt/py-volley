{
 "cells": [
  {
   "cell_type": "code",
   "execution_count": null,
   "id": "3e0020cb",
   "metadata": {},
   "outputs": [],
   "source": [
    "from pyshipt_streams import KafkaProducer, KafkaConsumer\n",
    "from uuid import uuid4\n",
    "import os\n",
    "\n",
    "staging_brokers = \"pkc-438qm.us-east-1.aws.confluent.cloud:9092\"\n",
    "staging_input = \"stg.bus.ds-marketplace.v1.bundle_engine_input\"\n",
    "staging_output = \"stg.bus.ds-marketplace.v1.bundle_engine_output\"\n",
    "kafka_username = os.environ[\"KAFKA_KEY\"],\n",
    "kafka_password = os.environ[\"KAFKA_SECRET\"]"
   ]
  },
  {
   "cell_type": "code",
   "execution_count": null,
   "id": "83887deb",
   "metadata": {},
   "outputs": [],
   "source": [
    "p = KafkaProducer(\n",
    "    brokers=staging_brokers,\n",
    "    username=kafka_username,\n",
    "    password=kafka_password\n",
    ")"
   ]
  },
  {
   "cell_type": "markdown",
   "id": "660e1a31",
   "metadata": {},
   "source": [
    "# Publish a message to input"
   ]
  },
  {
   "cell_type": "code",
   "execution_count": null,
   "id": "8f44803c",
   "metadata": {},
   "outputs": [],
   "source": [
    "for x in range(10):\n",
    "    p.publish(\n",
    "        staging_input,\n",
    "        {\n",
    "            'bundle_request_id': f'request-id-{x}',\n",
    "            'orders': ['15855965', '158559635', '15812355965']\n",
    "        }\n",
    "    )"
   ]
  },
  {
   "cell_type": "markdown",
   "id": "09577435",
   "metadata": {},
   "source": [
    "# Listen for message on the output topic"
   ]
  },
  {
   "cell_type": "code",
   "execution_count": null,
   "id": "e25ef204",
   "metadata": {},
   "outputs": [],
   "source": [
    "c = KafkaConsumer(\n",
    "    consumer_group=\"staging-inspector\",\n",
    "    brokers=staging_brokers,\n",
    "    username=kafka_username,\n",
    "    password=kafka_password,\n",
    ")\n",
    "c.subscribe(topics=[staging_output])\n",
    "messages = []"
   ]
  },
  {
   "cell_type": "code",
   "execution_count": null,
   "id": "e40bc34a",
   "metadata": {},
   "outputs": [],
   "source": [
    "try:\n",
    "    while True:\n",
    "        msg = c.poll(0.25)\n",
    "        if msg is None:\n",
    "            continue\n",
    "        if msg.error():\n",
    "            raise Exception(\"errr\")\n",
    "        else:\n",
    "            m = msg.value().decode(\"utf-8\")\n",
    "            messages.append(m)\n",
    "            print(m)\n",
    "            \n",
    "except KeyboardInterrupt:\n",
    "    print(\"aborted\")\n",
    "finally:\n",
    "    c.close()"
   ]
  }
 ],
 "metadata": {
  "kernelspec": {
   "display_name": "Python 3 (ipykernel)",
   "language": "python",
   "name": "python3"
  },
  "language_info": {
   "codemirror_mode": {
    "name": "ipython",
    "version": 3
   },
   "file_extension": ".py",
   "mimetype": "text/x-python",
   "name": "python",
   "nbconvert_exporter": "python",
   "pygments_lexer": "ipython3",
   "version": "3.9.4"
  }
 },
 "nbformat": 4,
 "nbformat_minor": 5
}
