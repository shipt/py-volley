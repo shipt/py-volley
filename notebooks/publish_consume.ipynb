{
 "cells": [
  {
   "cell_type": "code",
   "execution_count": 1,
   "id": "3e0020cb",
   "metadata": {},
   "outputs": [],
   "source": [
    "from pyshipt_streams import KafkaProducer, KafkaConsumer\n",
    "from uuid import uuid4\n",
    "import os\n",
    "\n",
    "staging_brokers = \"pkc-438qm.us-east-1.aws.confluent.cloud:9092\"\n",
    "kafka_username = os.environ[\"KAFKA_KEY\"],\n",
    "kafka_password = os.environ[\"KAFKA_SECRET\"]"
   ]
  },
  {
   "cell_type": "code",
   "execution_count": 2,
   "id": "83887deb",
   "metadata": {},
   "outputs": [
    {
     "name": "stdout",
     "output_type": "stream",
     "text": [
      "{\"level\": \"INFO\", \"message\": \"Connected to Kafka Broker\", \"timestamp\": \"2021-10-12T21:52:10.476910Z\", \"app_env\": null, \"host\": null, \"version\": null}\n"
     ]
    }
   ],
   "source": [
    "p = KafkaProducer(\n",
    "    brokers=staging_brokers,\n",
    "    username=kafka_username,\n",
    "    password=kafka_password\n",
    ")"
   ]
  },
  {
   "cell_type": "code",
   "execution_count": null,
   "id": "edb55ea4",
   "metadata": {},
   "outputs": [],
   "source": [
    "from confluent_kafka import Producer\n",
    "p = Producer(\n",
    "    {\n",
    "        \"bootstrap.servers\": \"pkc-438qm.us-east-1.aws.confluent.cloud:9092\",\n",
    "        \"sasl.username\": kafka_username,\n",
    "        \"sasl.password\": kafka_password,\n",
    "        \"security.protocol\": \"SASL_SSL\",\n",
    "        \"sasl.mechanism\": \"PLAIN\",\n",
    "    }\n",
    ")"
   ]
  },
  {
   "cell_type": "markdown",
   "id": "660e1a31",
   "metadata": {},
   "source": [
    "# Publish a message to staging input"
   ]
  },
  {
   "cell_type": "code",
   "execution_count": 8,
   "id": "8f44803c",
   "metadata": {},
   "outputs": [
    {
     "name": "stdout",
     "output_type": "stream",
     "text": [
      "{\"level\": \"INFO\", \"message\": \"Sent to topic: stg.bus.ds-marketplace.v1.bundle_engine_input\", \"timestamp\": \"2021-10-12T21:54:58.315822Z\", \"app_env\": null, \"host\": null, \"version\": null}\n",
      "{\"level\": \"INFO\", \"message\": \"Message produced for topic: stg.bus.ds-marketplace.v1.bundle_engine_input\", \"timestamp\": \"2021-10-12T21:54:58.318537Z\", \"app_env\": null, \"host\": null, \"version\": null}\n",
      "{\"level\": \"INFO\", \"message\": \"Sent to topic: stg.bus.ds-marketplace.v1.bundle_engine_input\", \"timestamp\": \"2021-10-12T21:54:58.319328Z\", \"app_env\": null, \"host\": null, \"version\": null}\n",
      "{\"level\": \"INFO\", \"message\": \"Sent to topic: stg.bus.ds-marketplace.v1.bundle_engine_input\", \"timestamp\": \"2021-10-12T21:54:58.320049Z\", \"app_env\": null, \"host\": null, \"version\": null}\n",
      "{\"level\": \"INFO\", \"message\": \"Sent to topic: stg.bus.ds-marketplace.v1.bundle_engine_input\", \"timestamp\": \"2021-10-12T21:54:58.320987Z\", \"app_env\": null, \"host\": null, \"version\": null}\n",
      "{\"level\": \"INFO\", \"message\": \"Sent to topic: stg.bus.ds-marketplace.v1.bundle_engine_input\", \"timestamp\": \"2021-10-12T21:54:58.322078Z\", \"app_env\": null, \"host\": null, \"version\": null}\n",
      "{\"level\": \"INFO\", \"message\": \"Sent to topic: stg.bus.ds-marketplace.v1.bundle_engine_input\", \"timestamp\": \"2021-10-12T21:54:58.322970Z\", \"app_env\": null, \"host\": null, \"version\": null}\n",
      "{\"level\": \"INFO\", \"message\": \"Sent to topic: stg.bus.ds-marketplace.v1.bundle_engine_input\", \"timestamp\": \"2021-10-12T21:54:58.323701Z\", \"app_env\": null, \"host\": null, \"version\": null}\n",
      "{\"level\": \"INFO\", \"message\": \"Sent to topic: stg.bus.ds-marketplace.v1.bundle_engine_input\", \"timestamp\": \"2021-10-12T21:54:58.324437Z\", \"app_env\": null, \"host\": null, \"version\": null}\n",
      "{\"level\": \"INFO\", \"message\": \"Sent to topic: stg.bus.ds-marketplace.v1.bundle_engine_input\", \"timestamp\": \"2021-10-12T21:54:58.325093Z\", \"app_env\": null, \"host\": null, \"version\": null}\n",
      "{\"level\": \"INFO\", \"message\": \"Sent to topic: stg.bus.ds-marketplace.v1.bundle_engine_input\", \"timestamp\": \"2021-10-12T21:54:58.326217Z\", \"app_env\": null, \"host\": null, \"version\": null}\n"
     ]
    }
   ],
   "source": [
    "for x in range(10):\n",
    "    p.publish(\n",
    "        \"stg.bus.ds-marketplace.v1.bundle_engine_input\",\n",
    "        {\n",
    "            \"event_id\": str(uuid4()),\n",
    "            \"message\": \"hello-world\",\n",
    "        }\n",
    "    )"
   ]
  },
  {
   "cell_type": "markdown",
   "id": "09577435",
   "metadata": {},
   "source": [
    "# Listen for message on the output topic"
   ]
  },
  {
   "cell_type": "code",
   "execution_count": 4,
   "id": "e25ef204",
   "metadata": {},
   "outputs": [
    {
     "name": "stdout",
     "output_type": "stream",
     "text": [
      "{\"level\": \"INFO\", \"message\": \"Connected to Kafka Broker\", \"timestamp\": \"2021-10-12T21:52:34.501883Z\", \"app_env\": null, \"host\": null, \"version\": null}\n"
     ]
    }
   ],
   "source": [
    "c = KafkaConsumer(\n",
    "    consumer_group=\"my_username\",\n",
    "    brokers=staging_brokers,\n",
    "    username=kafka_username,\n",
    "    password=kafka_password,\n",
    ")\n",
    "c.subscribe(topics=[\"stg.bus.ds-marketplace.v1.bundle_engine_output\"])\n",
    "messages = []"
   ]
  },
  {
   "cell_type": "code",
   "execution_count": null,
   "id": "e40bc34a",
   "metadata": {},
   "outputs": [],
   "source": [
    "try:\n",
    "    while True:\n",
    "        msg = c.poll(0.25)\n",
    "        if msg is None:\n",
    "            continue\n",
    "        if msg.error():\n",
    "            raise Exception(\"errr\")\n",
    "        else:\n",
    "            # Do something with the message\n",
    "            m = msg.value().decode(\"utf-8\")\n",
    "            messages.append(m)\n",
    "            print(m)\n",
    "            \n",
    "except KeyboardInterrupt:\n",
    "    print(\"aborted\")\n",
    "finally:\n",
    "    c.close()"
   ]
  },
  {
   "cell_type": "code",
   "execution_count": null,
   "id": "19aa885a",
   "metadata": {},
   "outputs": [],
   "source": []
  }
 ],
 "metadata": {
  "kernelspec": {
   "display_name": "Python 3 (ipykernel)",
   "language": "python",
   "name": "python3"
  },
  "language_info": {
   "codemirror_mode": {
    "name": "ipython",
    "version": 3
   },
   "file_extension": ".py",
   "mimetype": "text/x-python",
   "name": "python",
   "nbconvert_exporter": "python",
   "pygments_lexer": "ipython3",
   "version": "3.9.4"
  }
 },
 "nbformat": 4,
 "nbformat_minor": 5
}
